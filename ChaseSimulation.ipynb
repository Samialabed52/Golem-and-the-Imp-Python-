{
 "cells": [
  {
   "cell_type": "code",
   "execution_count": 1,
   "id": "distant-objective",
   "metadata": {},
   "outputs": [],
   "source": [
    "import random as rand"
   ]
  },
  {
   "cell_type": "code",
   "execution_count": 2,
   "id": "infinite-cherry",
   "metadata": {},
   "outputs": [],
   "source": [
    "#create the time tracker\n",
    "timer = 0"
   ]
  },
  {
   "cell_type": "code",
   "execution_count": 3,
   "id": "strange-protein",
   "metadata": {},
   "outputs": [],
   "source": [
    "#create an array of 50 hyphens to show the track\n",
    "track = ['-'] * 50"
   ]
  },
  {
   "cell_type": "code",
   "execution_count": 4,
   "id": "molecular-oasis",
   "metadata": {},
   "outputs": [],
   "source": [
    "#create the initial position values for the Gollem and the imp\n",
    "gPos = 0\n",
    "iPos = 5"
   ]
  },
  {
   "cell_type": "code",
   "execution_count": 5,
   "id": "important-acting",
   "metadata": {},
   "outputs": [],
   "source": [
    "#Add initial position to the track\n",
    "track[gPos] = 'G'\n",
    "track[iPos] = 'I'"
   ]
  },
  {
   "cell_type": "code",
   "execution_count": 6,
   "id": "improving-picture",
   "metadata": {},
   "outputs": [
    {
     "name": "stdout",
     "output_type": "stream",
     "text": [
      "G----I--------------------------------------------X   0s\n",
      "---G----I-----------------------------------------X   1s\n",
      "------G---I---------------------------------------X   2s\n",
      "----------G----I----------------------------------X   3s\n",
      "-------------G----I-------------------------------X   4s\n",
      "----------------G-----I---------------------------X   5s\n",
      "-------------------G---I--------------------------X   6s\n",
      "-----------------------G------I-------------------X   7s\n",
      "---------------------------G-----I----------------X   8s\n",
      "-------------------------------G--------I---------X   9s\n",
      "----------------------------------G------------I--X   10s\n",
      "-------------------------------------G-----------IX   11s\n",
      "THE IMP HAS ESCAPED TO FREEDOM AFTER 12 SECONDS. MISCHIEF AND TRICKERY AWAIT!\n"
     ]
    }
   ],
   "source": [
    "#Simulation loop\n",
    "while gPos < iPos and iPos < 50:\n",
    "    \n",
    "    #print visual of the track while the imp is ahead\n",
    "    print(*track, f'X   {timer}s' ,sep = '')\n",
    "    \n",
    "    #increment time by 1\n",
    "    timer += 1\n",
    "    \n",
    "    #erase past position of creatures\n",
    "    track[gPos] = '-'\n",
    "    track[iPos] = '-'\n",
    "    \n",
    "    #golem moves 3-4 feet\n",
    "    gPos += rand.randrange(3,5)\n",
    "    #imp moves 1-7 feet\n",
    "    iPos += rand.randrange(1,8)\n",
    "    \n",
    "    #if the imp has not escaped, add the new positions to the track\n",
    "    if iPos < 50:\n",
    "        track[gPos] = 'G'\n",
    "        track[iPos] = 'I'\n",
    "    \n",
    "#if the Golem caught the imp\n",
    "if gPos >= iPos:\n",
    "    print(f'SADLY, IT\\'S BACK TO THE TOWER FOR THE IMP AFTER A {timer} SECOND CHASE.')\n",
    "#if the imp escaped\n",
    "else:\n",
    "    print(f'THE IMP HAS ESCAPED TO FREEDOM AFTER {timer} SECONDS. MISCHIEF AND TRICKERY AWAIT!')"
   ]
  }
 ],
 "metadata": {
  "kernelspec": {
   "display_name": "Python 3",
   "language": "python",
   "name": "python3"
  },
  "language_info": {
   "codemirror_mode": {
    "name": "ipython",
    "version": 3
   },
   "file_extension": ".py",
   "mimetype": "text/x-python",
   "name": "python",
   "nbconvert_exporter": "python",
   "pygments_lexer": "ipython3",
   "version": "3.8.5"
  }
 },
 "nbformat": 4,
 "nbformat_minor": 5
}
